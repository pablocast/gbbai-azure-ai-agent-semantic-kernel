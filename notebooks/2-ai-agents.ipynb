{
 "cells": [
  {
   "cell_type": "markdown",
   "metadata": {},
   "source": [
    "## Agent Chat Lab -  Multi Agent Orchestration"
   ]
  },
  {
   "cell_type": "code",
   "execution_count": null,
   "metadata": {},
   "outputs": [],
   "source": [
    "from semantic_kernel.functions.kernel_function_from_prompt import KernelFunctionFromPrompt\n",
    "from semantic_kernel.agents import AgentGroupChat\n",
    "import sys\n",
    "import os\n",
    "from dotenv import load_dotenv\n",
    "sys.path.insert(1,'..') \n",
    "from src.agent import Agent\n",
    "\n",
    "load_dotenv(override=True)"
   ]
  },
  {
   "cell_type": "code",
   "execution_count": null,
   "metadata": {},
   "outputs": [],
   "source": [
    "# // Create agents\n",
    "AGENT_SCORE = \"Score\"\n",
    "AGENT_DEBT = \"Dividas\"\n",
    "AGENT_CC_SANTANDER = \"CC_Santander\"\n",
    "AGENT_CC_WILLIAMS = \"CC_Will\"\n",
    "AGENT_CC_PICPAY = \"CC_PicPay\"\n",
    "AGENT_CC_NEON = \"CC_Neon\"\n",
    "AGENT_CC_ITAU = \"CC_Itau\"\n",
    "AGENT_CC_DM = \"CC_DM\"\n",
    "AGENT_CC_DIGIO = \"CC_Digio\"\n",
    "AGENT_BING = \"Bing\"\n",
    "\n",
    "# // Azure AI Foundry Agent Creator\n",
    "agent_creator = Agent()\n",
    "\n",
    "model_deployment_name = os.environ.get(\"AZURE_OPENAI_4o_MODEL_NAME\")\n",
    "\n",
    "async with():\n",
    "    agent_1 = await agent_creator.create_agent(\n",
    "        model=model_deployment_name,\n",
    "        name=AGENT_SCORE,\n",
    "        instructions=\"You answer questions about Score\",\n",
    "    )\n",
    "\n",
    "    agent_2 = await agent_creator.create_agent(\n",
    "        model=model_deployment_name,\n",
    "        name=AGENT_DEBT,\n",
    "        instructions=\"You answer questions about Debt\",\n",
    "    )\n",
    "\n",
    "\n"
   ]
  },
  {
   "cell_type": "code",
   "execution_count": null,
   "metadata": {},
   "outputs": [],
   "source": [
    "# // Selection function\n",
    "selection_function = KernelFunctionFromPrompt(\n",
    "    function_name=\"selection\",\n",
    "    prompt=f\"\"\"\n",
    "    Determine which participant takes the next turn in a conversation based on the the most recent participant.\n",
    "    State only the name of the participant to take the next turn.\n",
    "    No participant should take more than one turn in a row.\n",
    "    \n",
    "    Choose only from these participants:\n",
    "    - {AGENT_SCORE}\n",
    "    - {AGENT_DEBT}\n",
    "    - {AGENT_CC_SANTANDER}\n",
    "    - {AGENT_CC_WILLIAMS}\n",
    "    - {AGENT_CC_PICPAY}\n",
    "    - {AGENT_CC_NEON}\n",
    "    - {AGENT_CC_ITAU}\n",
    "    - {AGENT_CC_DM}\n",
    "    - {AGENT_CC_DIGIO}\n",
    "    - {AGENT_BING}\n",
    "\n",
    "    History:\n",
    "    {{{{$history}}}}\n",
    "    \"\"\",\n",
    ")"
   ]
  },
  {
   "cell_type": "code",
   "execution_count": null,
   "metadata": {},
   "outputs": [],
   "source": []
  }
 ],
 "metadata": {
  "kernelspec": {
   "display_name": ".venv",
   "language": "python",
   "name": "python3"
  },
  "language_info": {
   "codemirror_mode": {
    "name": "ipython",
    "version": 3
   },
   "file_extension": ".py",
   "mimetype": "text/x-python",
   "name": "python",
   "nbconvert_exporter": "python",
   "pygments_lexer": "ipython3",
   "version": "3.11.0rc2"
  }
 },
 "nbformat": 4,
 "nbformat_minor": 2
}
